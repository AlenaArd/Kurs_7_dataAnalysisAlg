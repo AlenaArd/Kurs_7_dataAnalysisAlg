{
 "cells": [
  {
   "cell_type": "code",
   "execution_count": 2,
   "metadata": {},
   "outputs": [],
   "source": [
    "import numpy as np\n",
    "import matplotlib.pyplot as plt"
   ]
  },
  {
   "cell_type": "code",
   "execution_count": 3,
   "metadata": {},
   "outputs": [],
   "source": [
    "%matplotlib inline\n",
    "plt.style.use('seaborn-ticks')\n",
    "plt.rcParams.update({'font.size': 14})"
   ]
  },
  {
   "cell_type": "markdown",
   "metadata": {},
   "source": [
    "### Урок 3. Логистическая регрессия. Log Loss_ДЗ"
   ]
  },
  {
   "cell_type": "markdown",
   "metadata": {},
   "source": [
    "1. Измените функцию `calc_logloss` так, чтобы нули по возможности не попадали в `np.log` (как вариант - использовать `np.clip` или `np.where`).  \n",
    "2. На данных из урока изучите влияние гиперпараметров на ошибку алгоритма. \n",
    "3. Создайте функцию `calc_pred_proba`, возвращающую предсказанную вероятность класса \"1\". На вход функции подаются значения признаков Х и веса, которые уже посчитаны функцией `eval_LR_model`.\n",
    "4. Создайте функцию `calc_pred`, возвращающую предсказанные классы (0 или 1). На вход функции подаются значения признаков Х и веса, которые уже посчитаны функцией `eval_LR_model`, а также порог вероятности.\n",
    "5. (\\*) Напишите функции для расчета accuracy, матрицы ошибок, precision и recall, а также F1-score."
   ]
  },
  {
   "cell_type": "markdown",
   "metadata": {},
   "source": [
    "1. Измените функцию calc_logloss так, чтобы нули по возможности не попадали в np.log. "
   ]
  },
  {
   "cell_type": "code",
   "execution_count": 5,
   "metadata": {},
   "outputs": [],
   "source": [
    "def calc_logloss(y, p):\n",
    "    err = np.mean(- y * np.log(p) - (1.0 - y) * np.log(1.0 - p))\n",
    "    return err"
   ]
  },
  {
   "cell_type": "code",
   "execution_count": 12,
   "metadata": {},
   "outputs": [],
   "source": [
    "def calc_logloss_1(y, y_pred):\n",
    "    err = - np.mean(y*np.log(y_pred + 1e-16) + (1.0 - y)*np.log(1.0 - y_pred + 1e-16))\n",
    "    return err\n"
   ]
  },
  {
   "cell_type": "code",
   "execution_count": 7,
   "metadata": {},
   "outputs": [],
   "source": [
    "def calc_logloss_2(y, y_pred):\n",
    "    np.clip(a=y_pred, a_min=1e-16, a_max=(1 - 1e-16), out=y_pred) # ограничивает значения \n",
    "    err = np.mean(- y * np.log(y_pred) - (1.0 - y) * np.log(1.0 - y_pred))\n",
    "    return err"
   ]
  },
  {
   "cell_type": "code",
   "execution_count": 24,
   "metadata": {},
   "outputs": [
    {
     "name": "stdout",
     "output_type": "stream",
     "text": [
      " 0 - nan\n",
      " 1 - 0.34657359027997253\n",
      " 2 - 0.3465735902799727\n"
     ]
    },
    {
     "name": "stderr",
     "output_type": "stream",
     "text": [
      "<ipython-input-5-7c9ba78dae11>:2: RuntimeWarning: divide by zero encountered in log\n",
      "  err = np.mean(- y * np.log(p) - (1.0 - y) * np.log(1.0 - p))\n",
      "<ipython-input-5-7c9ba78dae11>:2: RuntimeWarning: invalid value encountered in multiply\n",
      "  err = np.mean(- y * np.log(p) - (1.0 - y) * np.log(1.0 - p))\n"
     ]
    }
   ],
   "source": [
    "y_true = np.array([0, 1])\n",
    "preds = np.array([0, 0.5])\n",
    "print(f' 0 - {calc_logloss(y_true, preds)}')\n",
    "print(f' 1 - {calc_logloss_1(y_true, preds)}')\n",
    "print(f' 2 - {calc_logloss_2(y_true, preds)}')"
   ]
  },
  {
   "cell_type": "code",
   "execution_count": 23,
   "metadata": {},
   "outputs": [
    {
     "name": "stdout",
     "output_type": "stream",
     "text": [
      " 0 - inf\n",
      " 1 - 36.841361487904734\n",
      " 2 - 36.78908102879092\n"
     ]
    },
    {
     "name": "stderr",
     "output_type": "stream",
     "text": [
      "<ipython-input-5-7c9ba78dae11>:2: RuntimeWarning: divide by zero encountered in log\n",
      "  err = np.mean(- y * np.log(p) - (1.0 - y) * np.log(1.0 - p))\n"
     ]
    }
   ],
   "source": [
    "y = np.array([0, 1])\n",
    "preds = np.array([1, 0], dtype='float64')\n",
    "print(f' 0 - {calc_logloss(y_true, preds)}')\n",
    "print(f' 1 - {calc_logloss_1(y_true, preds)}')\n",
    "print(f' 2 - {calc_logloss_2(y_true, preds)}')"
   ]
  },
  {
   "cell_type": "markdown",
   "metadata": {},
   "source": [
    "2. На данных из урока изучите влияние гиперпараметров на ошибку алгоритма. "
   ]
  },
  {
   "cell_type": "code",
   "execution_count": 25,
   "metadata": {},
   "outputs": [],
   "source": [
    "X = np.array([[1, 1, 1, 1, 1, 1, 1, 1, 1, 1],\n",
    "              [1, 1, 2, 1, 3, 0, 5, 10, 1, 2],  # стаж\n",
    "              [500, 700, 750, 600, 1450,        # средняя стоимость занятия\n",
    "               800, 1500, 2000, 450, 1000],\n",
    "              [21, 25, 27, 20, 25, 18, 35, 60, 20, 30]],  # возраст репетитора\n",
    "             dtype = np.float64).T # квалификация репетитора\n",
    "\n",
    "y = np.array([0, 0, 0, 1, 1, 1, 1, 0, 0, 0]) # подходит или нет репетитор\n",
    "def standardization(X):\n",
    "    return (X - X.mean(axis=0)) / X.std(axis=0)\n",
    "\n",
    "X_st = X.copy()\n",
    "X_st[:, 1:] = standardization(X[:, 1:])"
   ]
  },
  {
   "cell_type": "code",
   "execution_count": 26,
   "metadata": {},
   "outputs": [],
   "source": [
    "def sigmoid(z):\n",
    "    res = 1 / (1 + np.exp(-z))\n",
    "    return res"
   ]
  },
  {
   "cell_type": "code",
   "execution_count": 27,
   "metadata": {},
   "outputs": [],
   "source": [
    "def eval_LR_model(X, y, eta=1e-3, max_iter=1e4, verbose=False):\n",
    "    np.random.seed(42)\n",
    "    w = np.random.randn(X.shape[1])\n",
    "    #err = calc_logloss(y, sigmoid(np.dot(X, w)))\n",
    "    errors = []\n",
    "    n = X.shape[0]\n",
    "    for i in range(1, 1 + int(max_iter)):\n",
    "        z = np.dot(X, w)\n",
    "        y_pred = sigmoid(z)\n",
    "        grad = 1/n * np.dot((y_pred - y), X)\n",
    "        w -= eta * grad\n",
    "        err = calc_logloss(y, sigmoid(np.dot(X, w)))\n",
    "        errors.append(err)\n",
    "    if verbose:\n",
    "        print(f'Итераций: {i}, ошибка: {err:.5f}, веса: {w}')\n",
    "    return w, errors"
   ]
  },
  {
   "cell_type": "markdown",
   "metadata": {},
   "source": [
    "Посмотрим, как ошибка меняется с количеством итераций."
   ]
  },
  {
   "cell_type": "code",
   "execution_count": 28,
   "metadata": {},
   "outputs": [
    {
     "name": "stdout",
     "output_type": "stream",
     "text": [
      "Итераций: 10, ошибка: 0.97220, веса: [ 0.36065583 -0.3972585   0.51937535  1.19161524]\n"
     ]
    },
    {
     "data": {
      "text/plain": [
       "(array([ 0.36065583, -0.3972585 ,  0.51937535,  1.19161524]),\n",
       " [1.159965552852617,\n",
       "  1.1371486713885086,\n",
       "  1.1148118276824541,\n",
       "  1.0929570104234858,\n",
       "  1.0715871358410791,\n",
       "  1.0507062142584689,\n",
       "  1.0303195102070326,\n",
       "  1.010433687794308,\n",
       "  0.9910569304311533,\n",
       "  0.972199021173242])"
      ]
     },
     "execution_count": 28,
     "metadata": {},
     "output_type": "execute_result"
    }
   ],
   "source": [
    "w = eval_LR_model(X_st, y, eta=0.1, max_iter=10, verbose=True)\n",
    "w"
   ]
  },
  {
   "cell_type": "code",
   "execution_count": 29,
   "metadata": {},
   "outputs": [
    {
     "name": "stdout",
     "output_type": "stream",
     "text": [
      "Итераций: 10, ошибка: 0.97220, веса: [ 0.36065583 -0.3972585   0.51937535  1.19161524]\n"
     ]
    }
   ],
   "source": [
    "_, _ = eval_LR_model(X_st, y, eta=0.1, max_iter=10, verbose=True)"
   ]
  },
  {
   "cell_type": "code",
   "execution_count": 30,
   "metadata": {},
   "outputs": [
    {
     "name": "stdout",
     "output_type": "stream",
     "text": [
      "Итераций: 100, ошибка: 0.55060, веса: [-0.32495521 -0.99723356  0.97913034 -0.06693668]\n"
     ]
    }
   ],
   "source": [
    "_, _ = eval_LR_model(X_st, y, eta=0.1, max_iter=100, verbose=True)"
   ]
  },
  {
   "cell_type": "code",
   "execution_count": 32,
   "metadata": {},
   "outputs": [
    {
     "name": "stdout",
     "output_type": "stream",
     "text": [
      "Итераций: 500, ошибка: 0.33297, веса: [-0.45062386 -1.01842459  2.94443256 -2.1190821 ]\n"
     ]
    }
   ],
   "source": [
    "_, _ = eval_LR_model(X_st, y, eta=0.1, max_iter=500, verbose=True)"
   ]
  },
  {
   "cell_type": "code",
   "execution_count": 33,
   "metadata": {},
   "outputs": [
    {
     "name": "stdout",
     "output_type": "stream",
     "text": [
      "Итераций: 1000, ошибка: 0.25919, веса: [-0.42116566 -0.72960015  4.0167637  -3.66608553]\n"
     ]
    }
   ],
   "source": [
    "_, _ = eval_LR_model(X_st, y, eta=0.1, max_iter=1000, verbose=True)"
   ]
  },
  {
   "cell_type": "code",
   "execution_count": 34,
   "metadata": {},
   "outputs": [
    {
     "name": "stdout",
     "output_type": "stream",
     "text": [
      "Итераций: 10000, ошибка: 0.25924, веса: [-0.42118835 -0.72928405  4.01536717 -3.66472114]\n"
     ]
    }
   ],
   "source": [
    "_, _ = eval_LR_model(X_st, y, eta=0.01, max_iter=10000, verbose=True)"
   ]
  },
  {
   "cell_type": "code",
   "execution_count": 35,
   "metadata": {},
   "outputs": [
    {
     "name": "stdout",
     "output_type": "stream",
     "text": [
      "Итераций: 10000, ошибка: 0.07569, веса: [ -0.32811099   2.0817206    9.3224602  -13.80067756]\n"
     ]
    }
   ],
   "source": [
    "_, _ = eval_LR_model(X_st, y, eta=0.1, max_iter=10000, verbose=True)"
   ]
  },
  {
   "cell_type": "markdown",
   "metadata": {},
   "source": [
    "Построим зависимость ошибки от количества итераций."
   ]
  },
  {
   "cell_type": "code",
   "execution_count": 36,
   "metadata": {},
   "outputs": [
    {
     "data": {
      "image/png": "[encoded data removed]",
      "text/plain": [
       "<Figure size 432x288 with 1 Axes>"
      ]
     },
     "metadata": {},
     "output_type": "display_data"
    }
   ],
   "source": [
    "iteration_list = np.logspace(1, 5, 5)\n",
    "errors_list = []\n",
    "\n",
    "for it in iteration_list:\n",
    "    _, err = eval_LR_model(X_st, y, eta=0.1, max_iter=it, verbose=False)\n",
    "    errors_list.append(err)\n",
    "    \n",
    "for i in range(len(errors_list)-1, -1, -1):\n",
    "    plt.plot(range(int(iteration_list[i])), errors_list[i], label='{:.0f}'.format(iteration_list[i]))\n",
    "plt.xlim(left=1)\n",
    "plt.xscale('log')\n",
    "for i, txt in enumerate(errors_list):\n",
    "    plt.annotate(txt[-1].round(4), xy=(iteration_list[i], np.tile(errors_list[i], 2)[-1]),\n",
    "                 arrowprops=dict(facecolor=\"r\", headlength=10, headwidth=10, width=20))    \n",
    "plt.ylabel('LogLoss')\n",
    "plt.xlabel('Количество итераций')\n",
    "plt.legend(title=r'$iterations:$');\n",
    "plt.show()"
   ]
  },
  {
   "cell_type": "markdown",
   "metadata": {},
   "source": [
    "Проверим, как влияет скорость обучения на ошибку."
   ]
  },
  {
   "cell_type": "code",
   "execution_count": 37,
   "metadata": {},
   "outputs": [
    {
     "name": "stdout",
     "output_type": "stream",
     "text": [
      "Итераций: 10000, ошибка: 0.55079, веса: [-0.32286763 -0.99669219  0.97842462 -0.0659118 ]\n"
     ]
    }
   ],
   "source": [
    "_, _ = eval_LR_model(X_st, y, eta=0.001, verbose=True)"
   ]
  },
  {
   "cell_type": "code",
   "execution_count": 38,
   "metadata": {},
   "outputs": [
    {
     "name": "stdout",
     "output_type": "stream",
     "text": [
      "Итераций: 10000, ошибка: 0.33308, веса: [-0.45061477 -1.01793161  2.94257704 -2.11755424]\n"
     ]
    }
   ],
   "source": [
    "_, _ = eval_LR_model(X_st, y, eta=0.005, verbose=True)"
   ]
  },
  {
   "cell_type": "code",
   "execution_count": 39,
   "metadata": {},
   "outputs": [
    {
     "name": "stdout",
     "output_type": "stream",
     "text": [
      "Итераций: 10000, ошибка: 0.25924, веса: [-0.42118835 -0.72928405  4.01536717 -3.66472114]\n"
     ]
    }
   ],
   "source": [
    "_, _ = eval_LR_model(X_st, y, eta=0.01, verbose=True)"
   ]
  },
  {
   "cell_type": "code",
   "execution_count": 40,
   "metadata": {},
   "outputs": [
    {
     "name": "stdout",
     "output_type": "stream",
     "text": [
      "Итераций: 10000, ошибка: 0.07569, веса: [ -0.32811099   2.0817206    9.3224602  -13.80067756]\n"
     ]
    }
   ],
   "source": [
    "_, _ = eval_LR_model(X_st, y, eta=0.1, verbose=True)"
   ]
  },
  {
   "cell_type": "code",
   "execution_count": 41,
   "metadata": {},
   "outputs": [
    {
     "name": "stdout",
     "output_type": "stream",
     "text": [
      "Итераций: 10000, ошибка: 0.01065, веса: [ -0.48096296   2.05657815  21.42438781 -30.60106992]\n"
     ]
    }
   ],
   "source": [
    "_, _ = eval_LR_model(X_st, y, eta=1, verbose=True)"
   ]
  },
  {
   "cell_type": "markdown",
   "metadata": {},
   "source": [
    "Построим зависимость ошибки от скорости обучения."
   ]
  },
  {
   "cell_type": "code",
   "execution_count": 45,
   "metadata": {},
   "outputs": [
    {
     "name": "stderr",
     "output_type": "stream",
     "text": [
      "<ipython-input-5-7c9ba78dae11>:2: RuntimeWarning: divide by zero encountered in log\n",
      "  err = np.mean(- y * np.log(p) - (1.0 - y) * np.log(1.0 - p))\n",
      "<ipython-input-5-7c9ba78dae11>:2: RuntimeWarning: invalid value encountered in multiply\n",
      "  err = np.mean(- y * np.log(p) - (1.0 - y) * np.log(1.0 - p))\n"
     ]
    }
   ],
   "source": [
    "eta_list = np.logspace(-3, 0, 3)\n",
    "errors_list = []\n",
    "iterations = int(1e5)\n",
    "\n",
    "for eta in eta_list:\n",
    "    _, err = eval_LR_model(X_st, y, eta=eta, max_iter=iterations, verbose=False)\n",
    "    errors_list.append(err)"
   ]
  },
  {
   "cell_type": "code",
   "execution_count": 46,
   "metadata": {},
   "outputs": [
    {
     "data": {
      "image/png": "[encoded data removed]",
      "text/plain": [
       "<Figure size 432x288 with 1 Axes>"
      ]
     },
     "metadata": {},
     "output_type": "display_data"
    }
   ],
   "source": [
    "for i in range(len(errors_list)):\n",
    "    plt.plot(range(iterations), errors_list[i], label='{:.3f}'.format(eta_list[i]))\n",
    "plt.xlim(left=1)\n",
    "plt.xscale('log')\n",
    "plt.ylabel('LogLoss')\n",
    "plt.xlabel('Количество итераций')\n",
    "plt.grid()\n",
    "plt.legend(title=r'$eta:$');"
   ]
  },
  {
   "cell_type": "markdown",
   "metadata": {},
   "source": [
    "### Вывод: Количество итераций влияет на ошибку. Чем большее число итераций при одной и той же eta, тем меньше ошибка. Скорость обучения также влияет на ошибку. Одном количество итераций получаем, чем выше скорость обучения, тем меньше требуется итераций. "
   ]
  },
  {
   "cell_type": "markdown",
   "metadata": {},
   "source": [
    "3. Создайте функцию `calc_pred_proba`, возвращающую предсказанную вероятность класса \"1\". На вход функции подаются значения признаков Х и веса, которые уже посчитаны функцией `eval_LR_model`."
   ]
  },
  {
   "cell_type": "code",
   "execution_count": 51,
   "metadata": {},
   "outputs": [],
   "source": [
    "def calc_pred_proba(X, w):\n",
    "    p = sigmoid(np.dot(X, w))\n",
    "    #p = 1 / (1 + np.exp(-np.dot(X, w)))\n",
    "    return p"
   ]
  },
  {
   "cell_type": "code",
   "execution_count": 52,
   "metadata": {
    "scrolled": true
   },
   "outputs": [
    {
     "name": "stdout",
     "output_type": "stream",
     "text": [
      "Итераций: 1000, ошибка: 0.55078, веса: [-0.32305707 -0.99674263  0.97848813 -0.06600631]\n",
      "[0.33804691 0.42776951 0.3641708  0.38589902 0.62493103 0.57596932\n",
      " 0.46086408 0.25566362 0.31706926 0.48257595]\n"
     ]
    }
   ],
   "source": [
    "w, _ = eval_LR_model(X_st, y, eta=0.01, max_iter=1000, verbose=True)\n",
    "\n",
    "preds = calc_pred_proba(X_st, w)\n",
    "print(preds)"
   ]
  },
  {
   "cell_type": "code",
   "execution_count": 57,
   "metadata": {},
   "outputs": [],
   "source": [
    "def calc_pred_proba_1(X, w):\n",
    "    return sigmoid(np.dot(X, w))"
   ]
  },
  {
   "cell_type": "code",
   "execution_count": 58,
   "metadata": {},
   "outputs": [
    {
     "data": {
      "text/plain": [
       "array([0.33804691, 0.42776951, 0.3641708 , 0.38589902, 0.62493103,\n",
       "       0.57596932, 0.46086408, 0.25566362, 0.31706926, 0.48257595])"
      ]
     },
     "execution_count": 58,
     "metadata": {},
     "output_type": "execute_result"
    }
   ],
   "source": [
    "y_prob = calc_pred_proba_1(X_st, w)\n",
    "y_prob"
   ]
  },
  {
   "cell_type": "markdown",
   "metadata": {},
   "source": [
    "4. Создайте функцию `calc_pred`, возвращающую предсказанные классы (0 или 1). На вход функции подаются значения признаков Х и веса, которые уже посчитаны функцией `eval_LR_model`, а также порог вероятности."
   ]
  },
  {
   "cell_type": "code",
   "execution_count": 59,
   "metadata": {},
   "outputs": [],
   "source": [
    "def calc_pred_0(X, w, threshold=0.5):\n",
    "    p = calc_pred_proba_1(X, w)\n",
    "    out = (p > threshold).astype(int)\n",
    "    return out"
   ]
  },
  {
   "cell_type": "code",
   "execution_count": 63,
   "metadata": {},
   "outputs": [
    {
     "data": {
      "text/plain": [
       "array([0, 0, 0, 0, 1, 1, 0, 0, 0, 0])"
      ]
     },
     "execution_count": 63,
     "metadata": {},
     "output_type": "execute_result"
    }
   ],
   "source": [
    "y_pred = calc_pred_0(X_st, w, threshold=0.5)\n",
    "y_pred"
   ]
  },
  {
   "cell_type": "code",
   "execution_count": 64,
   "metadata": {},
   "outputs": [],
   "source": [
    "def calc_pred(X, w, threshold=0.5):\n",
    "    probs = calc_pred_proba(X, w)\n",
    "    # labels = np.where(probs >= threshold, 1, 0)\n",
    "    labels = (probs >= threshold).astype(int)\n",
    "    return labels"
   ]
  },
  {
   "cell_type": "code",
   "execution_count": 65,
   "metadata": {},
   "outputs": [
    {
     "name": "stdout",
     "output_type": "stream",
     "text": [
      "[0 0 0 0 1 1 0 0 0 0]\n",
      "[0 0 0 1 1 1 1 0 0 0]\n"
     ]
    }
   ],
   "source": [
    "print(calc_pred(X_st, w))\n",
    "print(y)"
   ]
  },
  {
   "cell_type": "markdown",
   "metadata": {},
   "source": [
    "5. Посчитайте accuracy, матрицу ошибок, precision и recall, а также F1-score."
   ]
  },
  {
   "cell_type": "code",
   "execution_count": 66,
   "metadata": {},
   "outputs": [],
   "source": [
    "def calc_conf_matrix(y_pred, y):\n",
    "    conf_matrix = np.array([[0]*(len(set(y))) for i in range(len(set(y)))])\n",
    "    for pred, exp in zip(y_pred, y):\n",
    "        conf_matrix[int(pred)][int(exp)] += 1\n",
    "    return conf_matrix"
   ]
  },
  {
   "cell_type": "code",
   "execution_count": 67,
   "metadata": {},
   "outputs": [
    {
     "data": {
      "text/plain": [
       "array([[6, 2],\n",
       "       [0, 2]])"
      ]
     },
     "execution_count": 67,
     "metadata": {},
     "output_type": "execute_result"
    }
   ],
   "source": [
    "conf = calc_conf_matrix(y_pred, y)\n",
    "conf"
   ]
  },
  {
   "cell_type": "code",
   "execution_count": 68,
   "metadata": {},
   "outputs": [],
   "source": [
    "def pres_recall(conf_matrix):\n",
    "    recall = conf_matrix[0][0]/np.sum(conf_matrix[:, 0])\n",
    "    pres = conf_matrix[0][0]/np.sum(conf_matrix[0, :])\n",
    "    return recall, pres"
   ]
  },
  {
   "cell_type": "code",
   "execution_count": 69,
   "metadata": {},
   "outputs": [
    {
     "data": {
      "text/plain": [
       "(1.0, 0.75)"
      ]
     },
     "execution_count": 69,
     "metadata": {},
     "output_type": "execute_result"
    }
   ],
   "source": [
    "recall, pres = pres_recall(conf); recall, pres"
   ]
  },
  {
   "cell_type": "code",
   "execution_count": 70,
   "metadata": {},
   "outputs": [],
   "source": [
    "def metrics(y, y_pred):\n",
    "    TP = ((y == 1) & (y_pred == 1)).sum() # 4\n",
    "    TN = ((y == 0) & (y_pred == 0)).sum() # 4\n",
    "    FN = ((y == 1) & (y_pred == 0)).sum() # 1\n",
    "    FP = ((y == 0) & (y_pred == 1)).sum() # 1\n",
    "    \n",
    "    accuracy = (TP + TN) / (TP + TN + FP + FN)\n",
    "    recall = TP / (TP + FN)  \n",
    "    precision = TP / (TP + FP)  \n",
    "    f1_score = 2 * (precision * recall) / (precision + recall)\n",
    "    \n",
    "    return accuracy, precision, recall, f1_score"
   ]
  },
  {
   "cell_type": "code",
   "execution_count": 71,
   "metadata": {},
   "outputs": [
    {
     "name": "stdout",
     "output_type": "stream",
     "text": [
      "Accuracy: \t0.8\n",
      "Recall: \t1.0\n",
      "Precision: \t0.5\n",
      "F1-score: \t0.67\n"
     ]
    }
   ],
   "source": [
    "y_pred = calc_pred(X_st, w)\n",
    "print('Accuracy: \\t{:.2}\\nRecall: \\t{:.2}\\nPrecision: \\t{:.2}\\nF1-score: \\t{:.2}'\\\n",
    "      .format(*metrics(y, y_pred)[:]))"
   ]
  },
  {
   "cell_type": "code",
   "execution_count": 72,
   "metadata": {},
   "outputs": [
    {
     "data": {
      "text/plain": [
       "80.0"
      ]
     },
     "execution_count": 72,
     "metadata": {},
     "output_type": "execute_result"
    }
   ],
   "source": [
    "accuracy = 100.0 - np.mean(np.abs(y_pred - y) * 100.0)\n",
    "accuracy"
   ]
  },
  {
   "cell_type": "code",
   "execution_count": 73,
   "metadata": {},
   "outputs": [
    {
     "data": {
      "text/plain": [
       "array([[6, 0],\n",
       "       [2, 2]])"
      ]
     },
     "execution_count": 73,
     "metadata": {},
     "output_type": "execute_result"
    }
   ],
   "source": [
    "# другой вариант заполнения матрицы ошибок\n",
    "cmatrix = np.zeros((2, 2))\n",
    "for i in range(len(y)):\n",
    "    cmatrix[y[i]][y_pred[i]] += 1\n",
    "cmatrix.astype(int)"
   ]
  },
  {
   "cell_type": "code",
   "execution_count": 74,
   "metadata": {},
   "outputs": [],
   "source": [
    "def calc_acc(y_pred, y):\n",
    "    return np.sum([y_pred[i] == y[i] for i in range(len(y))])/len(y)"
   ]
  },
  {
   "cell_type": "code",
   "execution_count": 75,
   "metadata": {},
   "outputs": [
    {
     "data": {
      "text/plain": [
       "0.8"
      ]
     },
     "execution_count": 75,
     "metadata": {},
     "output_type": "execute_result"
    }
   ],
   "source": [
    "calc_acc(y_pred, y)"
   ]
  },
  {
   "cell_type": "code",
   "execution_count": null,
   "metadata": {},
   "outputs": [],
   "source": []
  }
 ],
 "metadata": {
  "kernelspec": {
   "display_name": "Python 3",
   "language": "python",
   "name": "python3"
  },
  "language_info": {
   "codemirror_mode": {
    "name": "ipython",
    "version": 3
   },
   "file_extension": ".py",
   "mimetype": "text/x-python",
   "name": "python",
   "nbconvert_exporter": "python",
   "pygments_lexer": "ipython3",
   "version": "3.8.8"
  },
  "toc": {
   "base_numbering": 1,
   "nav_menu": {},
   "number_sections": false,
   "sideBar": true,
   "skip_h1_title": true,
   "title_cell": "Содержание",
   "title_sidebar": "Содержание",
   "toc_cell": false,
   "toc_position": {},
   "toc_section_display": true,
   "toc_window_display": false
  }
 },
 "nbformat": 4,
 "nbformat_minor": 2
}
